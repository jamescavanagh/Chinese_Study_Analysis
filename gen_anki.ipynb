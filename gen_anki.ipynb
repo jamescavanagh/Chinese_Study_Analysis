{
 "cells": [
  {
   "cell_type": "code",
   "execution_count": 14,
   "metadata": {},
   "outputs": [],
   "source": [
    "# Creating flashcards\n",
    "\n",
    "import pandas as pd \n",
    "import ankipandas\n",
    "import genanki\n",
    "import datetime\n",
    "import random"
   ]
  },
  {
   "cell_type": "markdown",
   "metadata": {},
   "source": []
  },
  {
   "cell_type": "code",
   "execution_count": 15,
   "metadata": {},
   "outputs": [],
   "source": [
    "todaysDate = datetime.date.today().strftime(format='%D')"
   ]
  },
  {
   "cell_type": "code",
   "execution_count": 61,
   "metadata": {},
   "outputs": [
    {
     "data": {
      "text/html": [
       "<div>\n",
       "<style scoped>\n",
       "    .dataframe tbody tr th:only-of-type {\n",
       "        vertical-align: middle;\n",
       "    }\n",
       "\n",
       "    .dataframe tbody tr th {\n",
       "        vertical-align: top;\n",
       "    }\n",
       "\n",
       "    .dataframe thead th {\n",
       "        text-align: right;\n",
       "    }\n",
       "</style>\n",
       "<table border=\"1\" class=\"dataframe\">\n",
       "  <thead>\n",
       "    <tr style=\"text-align: right;\">\n",
       "      <th></th>\n",
       "      <th>Characters</th>\n",
       "      <th>Cat</th>\n",
       "      <th>Pinyin</th>\n",
       "      <th>Meaning</th>\n",
       "    </tr>\n",
       "  </thead>\n",
       "  <tbody>\n",
       "    <tr>\n",
       "      <th>196</th>\n",
       "      <td>这个香水闻起来有花的香味</td>\n",
       "      <td>Cat 3 (Actions, Diet, Health) Health</td>\n",
       "      <td>zhègèxiāngshǔiwénqǐláiyǒuhuādexiāngwèi</td>\n",
       "      <td>This perfume smells the fragrance of flowers</td>\n",
       "    </tr>\n",
       "  </tbody>\n",
       "</table>\n",
       "</div>"
      ],
      "text/plain": [
       "       Characters                                   Cat  \\\n",
       "196  这个香水闻起来有花的香味  Cat 3 (Actions, Diet, Health) Health   \n",
       "\n",
       "                                     Pinyin  \\\n",
       "196  zhègèxiāngshǔiwénqǐláiyǒuhuādexiāngwèi   \n",
       "\n",
       "                                          Meaning  \n",
       "196  This perfume smells the fragrance of flowers  "
      ]
     },
     "execution_count": 61,
     "metadata": {},
     "output_type": "execute_result"
    }
   ],
   "source": [
    "# Variables\n",
    "\n",
    "main_vocab_df = pd.read_csv('./categories_main.csv',index_col=0)\n",
    "main_vocab_df.sample()"
   ]
  },
  {
   "cell_type": "code",
   "execution_count": 17,
   "metadata": {},
   "outputs": [],
   "source": [
    "main_vocab_df['Cat'] = main_vocab_df.Cat.str[0:6].str.strip()"
   ]
  },
  {
   "cell_type": "code",
   "execution_count": 58,
   "metadata": {},
   "outputs": [],
   "source": [
    "cat1_df = main_vocab_df[main_vocab_df['Cat'] == 'Cat 1'].copy()\n",
    "cat2_df = main_vocab_df[main_vocab_df['Cat'] == 'Cat 2'].copy()\n",
    "cat3_df = main_vocab_df[main_vocab_df['Cat'] == 'Cat 3'].copy()\n",
    "cat4_df = main_vocab_df[main_vocab_df['Cat'] == 'Cat 4'].copy()"
   ]
  },
  {
   "cell_type": "code",
   "execution_count": 60,
   "metadata": {},
   "outputs": [],
   "source": [
    "cat1_df.to_csv('~/Documents/anki decks/cat1.csv',encoding='UTF-8')\n",
    "cat2_df.to_csv('~/Documents/anki decks/cat2.csv',encoding='UTF-8')\n",
    "cat3_df.to_csv('~/Documents/anki decks/cat3.csv',encoding='UTF-8')\n",
    "cat4_df.to_csv('~/Documents/anki decks/cat4.csv',encoding='UTF-8')"
   ]
  },
  {
   "cell_type": "code",
   "execution_count": 10,
   "metadata": {},
   "outputs": [
    {
     "name": "stderr",
     "output_type": "stream",
     "text": [
      "\u001b[32mINFO: Database found at '/home/jentlejames/.local/share/Anki2/User 1/collection.anki2'.\u001b[0m\n"
     ]
    }
   ],
   "source": [
    "from ankipandas import Collection\n",
    "\n",
    "col = Collection(\"/home/jentlejames/.local/share/Anki2/\", user=\"User 1\")"
   ]
  },
  {
   "cell_type": "code",
   "execution_count": null,
   "metadata": {},
   "outputs": [],
   "source": []
  },
  {
   "cell_type": "code",
   "execution_count": 11,
   "metadata": {},
   "outputs": [],
   "source": [
    "###### Functions \n",
    "\n",
    "def get_cards_from_note(cardIDs):\n",
    "    \n",
    "    if type(cardIDs) == int:\n",
    "        return \n",
    "    \n",
    "    "
   ]
  },
  {
   "cell_type": "code",
   "execution_count": 12,
   "metadata": {},
   "outputs": [],
   "source": [
    "notes = col.notes\n",
    "cards = col.cards"
   ]
  },
  {
   "cell_type": "code",
   "execution_count": 13,
   "metadata": {},
   "outputs": [
    {
     "data": {
      "text/html": [
       "<div>\n",
       "<style scoped>\n",
       "    .dataframe tbody tr th:only-of-type {\n",
       "        vertical-align: middle;\n",
       "    }\n",
       "\n",
       "    .dataframe tbody tr th {\n",
       "        vertical-align: top;\n",
       "    }\n",
       "\n",
       "    .dataframe thead th {\n",
       "        text-align: right;\n",
       "    }\n",
       "</style>\n",
       "<table border=\"1\" class=\"dataframe\">\n",
       "  <thead>\n",
       "    <tr style=\"text-align: right;\">\n",
       "      <th></th>\n",
       "      <th>nguid</th>\n",
       "      <th>nmod</th>\n",
       "      <th>nusn</th>\n",
       "      <th>ntags</th>\n",
       "      <th>nflds</th>\n",
       "      <th>nmodel</th>\n",
       "    </tr>\n",
       "    <tr>\n",
       "      <th>nid</th>\n",
       "      <th></th>\n",
       "      <th></th>\n",
       "      <th></th>\n",
       "      <th></th>\n",
       "      <th></th>\n",
       "      <th></th>\n",
       "    </tr>\n",
       "  </thead>\n",
       "  <tbody>\n",
       "    <tr>\n",
       "      <th>1014</th>\n",
       "      <td>i}+/D9#DQc</td>\n",
       "      <td>1651625894</td>\n",
       "      <td>41</td>\n",
       "      <td>[python]</td>\n",
       "      <td>[范围, 範圍, &lt;span class=\"tone4\"&gt;fàn&lt;/span&gt; &lt;span ...</td>\n",
       "      <td>Chinese</td>\n",
       "    </tr>\n",
       "  </tbody>\n",
       "</table>\n",
       "</div>"
      ],
      "text/plain": [
       "           nguid        nmod  nusn     ntags  \\\n",
       "nid                                            \n",
       "1014  i}+/D9#DQc  1651625894    41  [python]   \n",
       "\n",
       "                                                  nflds   nmodel  \n",
       "nid                                                               \n",
       "1014  [范围, 範圍, <span class=\"tone4\">fàn</span> <span ...  Chinese  "
      ]
     },
     "execution_count": 13,
     "metadata": {},
     "output_type": "execute_result"
    }
   ],
   "source": [
    "notes.head(1)"
   ]
  },
  {
   "cell_type": "code",
   "execution_count": 85,
   "metadata": {},
   "outputs": [
    {
     "data": {
      "text/html": [
       "<div>\n",
       "<style scoped>\n",
       "    .dataframe tbody tr th:only-of-type {\n",
       "        vertical-align: middle;\n",
       "    }\n",
       "\n",
       "    .dataframe tbody tr th {\n",
       "        vertical-align: top;\n",
       "    }\n",
       "\n",
       "    .dataframe thead th {\n",
       "        text-align: right;\n",
       "    }\n",
       "</style>\n",
       "<table border=\"1\" class=\"dataframe\">\n",
       "  <thead>\n",
       "    <tr style=\"text-align: right;\">\n",
       "      <th></th>\n",
       "      <th>nid</th>\n",
       "      <th>cord</th>\n",
       "      <th>cmod</th>\n",
       "      <th>cusn</th>\n",
       "      <th>ctype</th>\n",
       "      <th>cqueue</th>\n",
       "      <th>cdue</th>\n",
       "      <th>civl</th>\n",
       "      <th>cfactor</th>\n",
       "      <th>creps</th>\n",
       "      <th>clapses</th>\n",
       "      <th>cleft</th>\n",
       "      <th>codue</th>\n",
       "      <th>cdeck</th>\n",
       "      <th>codeck</th>\n",
       "    </tr>\n",
       "    <tr>\n",
       "      <th>cid</th>\n",
       "      <th></th>\n",
       "      <th></th>\n",
       "      <th></th>\n",
       "      <th></th>\n",
       "      <th></th>\n",
       "      <th></th>\n",
       "      <th></th>\n",
       "      <th></th>\n",
       "      <th></th>\n",
       "      <th></th>\n",
       "      <th></th>\n",
       "      <th></th>\n",
       "      <th></th>\n",
       "      <th></th>\n",
       "      <th></th>\n",
       "    </tr>\n",
       "  </thead>\n",
       "  <tbody>\n",
       "  </tbody>\n",
       "</table>\n",
       "</div>"
      ],
      "text/plain": [
       "Empty AnkiDataFrame\n",
       "Columns: [nid, cord, cmod, cusn, ctype, cqueue, cdue, civl, cfactor, creps, clapses, cleft, codue, cdeck, codeck]\n",
       "Index: []"
      ]
     },
     "execution_count": 85,
     "metadata": {},
     "output_type": "execute_result"
    }
   ],
   "source": [
    "cards[cards['nid']."
   ]
  },
  {
   "cell_type": "code",
   "execution_count": 81,
   "metadata": {},
   "outputs": [
    {
     "data": {
      "text/html": [
       "<div>\n",
       "<style scoped>\n",
       "    .dataframe tbody tr th:only-of-type {\n",
       "        vertical-align: middle;\n",
       "    }\n",
       "\n",
       "    .dataframe tbody tr th {\n",
       "        vertical-align: top;\n",
       "    }\n",
       "\n",
       "    .dataframe thead th {\n",
       "        text-align: right;\n",
       "    }\n",
       "</style>\n",
       "<table border=\"1\" class=\"dataframe\">\n",
       "  <thead>\n",
       "    <tr style=\"text-align: right;\">\n",
       "      <th></th>\n",
       "      <th>nguid</th>\n",
       "      <th>nmod</th>\n",
       "      <th>nusn</th>\n",
       "      <th>ntags</th>\n",
       "      <th>nflds</th>\n",
       "      <th>nmodel</th>\n",
       "    </tr>\n",
       "    <tr>\n",
       "      <th>nid</th>\n",
       "      <th></th>\n",
       "      <th></th>\n",
       "      <th></th>\n",
       "      <th></th>\n",
       "      <th></th>\n",
       "      <th></th>\n",
       "    </tr>\n",
       "  </thead>\n",
       "  <tbody>\n",
       "    <tr>\n",
       "      <th>1655950459168</th>\n",
       "      <td>iohrpo%N{`</td>\n",
       "      <td>1655950459</td>\n",
       "      <td>58</td>\n",
       "      <td>[]</td>\n",
       "      <td>[重复, , chong2fu4, repeat, , , , , , , ]</td>\n",
       "      <td>Chinese</td>\n",
       "    </tr>\n",
       "  </tbody>\n",
       "</table>\n",
       "</div>"
      ],
      "text/plain": [
       "                    nguid        nmod  nusn ntags  \\\n",
       "nid                                                 \n",
       "1655950459168  iohrpo%N{`  1655950459    58    []   \n",
       "\n",
       "                                                 nflds   nmodel  \n",
       "nid                                                              \n",
       "1655950459168  [重复, , chong2fu4, repeat, , , , , , , ]  Chinese  "
      ]
     },
     "execution_count": 81,
     "metadata": {},
     "output_type": "execute_result"
    }
   ],
   "source": [
    "\n",
    "\n",
    "notes[notes.nid == 1655950459168]"
   ]
  },
  {
   "cell_type": "code",
   "execution_count": 41,
   "metadata": {},
   "outputs": [],
   "source": [
    "class MyNote(genanki.Note):\n",
    "    @property\n",
    "    def guid(self):\n",
    "        return genanki.guid_for(self.fields[0], self.fields[1])"
   ]
  },
  {
   "cell_type": "code",
   "execution_count": 26,
   "metadata": {},
   "outputs": [
    {
     "data": {
      "text/plain": [
       "1650155331"
      ]
     },
     "execution_count": 26,
     "metadata": {},
     "output_type": "execute_result"
    }
   ],
   "source": [
    "\n",
    "import random\n",
    "random.randrange(1 << 30, 1 << 31)"
   ]
  },
  {
   "cell_type": "code",
   "execution_count": 48,
   "metadata": {},
   "outputs": [],
   "source": [
    "style = \".hanzi { text-align:center; font-size:60px; } .latin { text-align:center; font-size:20px; }\"\n",
    "\n",
    "\n",
    "ChineseDeckV1 = genanki.Model(\n",
    "  2016247601,\n",
    "  'Chinese Model 1.0',\n",
    "  fields=[\n",
    "    {'name': 'Chinese'},\n",
    "    {'name': 'Pinyin'},\n",
    "    {'name': 'Meaning'},\n",
    "    {'name': 'Example'},\n",
    "  ],\n",
    "  templates=[\n",
    "    {\n",
    "      'name': 'Card 1',\n",
    "      'qfmt': '{{Chinese}}',\n",
    "      'afmt': \"\"\"{{Chinese}}<hr id=\"Pinyin\">{{Pinyin}}\n",
    "      <\\hr><br>{{Meaning}<br>{{Example}}}'\n",
    "      \"\"\",\n",
    "    },\n",
    "  ])\n",
    "\n",
    "\n",
    "\n",
    "ChineseDeckV2 = genanki.Model(\n",
    "  1714059467,\n",
    "  'Hanzi First',\n",
    "  fields=[\n",
    "    {'name': 'Hanzi'},\n",
    "    {'name': 'AnswerPinyin'},\n",
    "    {'name': 'AnswerEnglish'},\n",
    "    {'name' : 'ExampleCN'}\n",
    "  ],\n",
    "  templates=[\n",
    "      {\n",
    "      'name': 'Hanzi First Card',\n",
    "      'qfmt': '<h1 class=\"hanzi\">{{QuestionHanzi}}<h1>',\n",
    "      'afmt': \"\"\"{{FrontSide}}<hr id=\"answer\">\n",
    "      <h3 class=\"latin\">{{AnswerPinyin}}<h1>\n",
    "      <h3 class=\"latin\">{{AnswerEnglish}}<h1>\n",
    "      <h3 class=\"hanzi\">{{ExampleCN}}<h1>\"\"\"\n",
    "      },\n",
    "  ], css=style)"
   ]
  },
  {
   "cell_type": "code",
   "execution_count": 54,
   "metadata": {},
   "outputs": [
    {
     "data": {
      "text/plain": [
       "array(['Cat 1', 'Cat 2', 'Cat 3', 'Cat 4'], dtype=object)"
      ]
     },
     "execution_count": 54,
     "metadata": {},
     "output_type": "execute_result"
    }
   ],
   "source": [
    "CurrentModel = ChineseDeckV1\n",
    "\n",
    "main_vocab_df['Cat'].unique()"
   ]
  },
  {
   "cell_type": "code",
   "execution_count": 50,
   "metadata": {},
   "outputs": [
    {
     "data": {
      "text/plain": [
       "1672916715"
      ]
     },
     "execution_count": 50,
     "metadata": {},
     "output_type": "execute_result"
    }
   ],
   "source": [
    "random.randrange(1 << 30, 1 << 31)"
   ]
  },
  {
   "cell_type": "code",
   "execution_count": 55,
   "metadata": {},
   "outputs": [],
   "source": [
    "\n",
    "\n",
    "deck1 = genanki.Deck(\n",
    "    2032304497,\n",
    "    'Cat 1: Tech and Work',\n",
    ")\n",
    "deck2 = genanki.Deck(\n",
    "    1136435956,\n",
    "    'Cat 2: Culture and Business',\n",
    ")\n",
    "deck3 = genanki.Deck(\n",
    "    1929999017,\n",
    "    'Cat 3: Actions and Health',\n",
    ")\n",
    "deck4 = genanki.Deck(\n",
    "    1934984145,\n",
    "    'Cat 4: Discussion and Expression',\n",
    ")\n",
    "#deck5 = genanki.Deck(\n",
    "    #1682962343,\n",
    "#    'Cat 5: Specific Situations',\n",
    "#)\n",
    "\n",
    "decks = [deck1,deck2,deck3,deck4]#,deck5]\n"
   ]
  },
  {
   "cell_type": "code",
   "execution_count": 56,
   "metadata": {},
   "outputs": [
    {
     "data": {
      "text/plain": [
       "'器械'"
      ]
     },
     "execution_count": 56,
     "metadata": {},
     "output_type": "execute_result"
    }
   ],
   "source": [
    "main_vocab_df[main_vocab_df['Cat'] == vocab_categories[0]].iloc[0].Characters"
   ]
  },
  {
   "cell_type": "code",
   "execution_count": 57,
   "metadata": {},
   "outputs": [],
   "source": [
    "vocab_categories = list(main_vocab_df['Cat'].unique())\n",
    "\n",
    "for i, deck in enumerate(decks):\n",
    "    \n",
    "    vocab_selection = main_vocab_df[main_vocab_df['Cat'] == vocab_categories[i]].copy()\n",
    "    \n",
    "    for j, row in vocab_selection.iterrows():\n",
    "        \n",
    "\n",
    "        new_note = MyNote(\n",
    "            model = ChineseDeckV2,\n",
    "            fields = [row.Characters ,row.Pinyin, row.Meaning,'']\n",
    "            \n",
    "            # blank fill in for example\n",
    "        )\n",
    "    \n",
    "        deck.add_note(new_note)\n",
    "        \n",
    "    genanki.Package(deck).write_to_file(f'/home/jentlejames/Documents/anki decks/{deck.name}.apkg')\n",
    "\n",
    "    "
   ]
  },
  {
   "cell_type": "code",
   "execution_count": 27,
   "metadata": {},
   "outputs": [
    {
     "data": {
      "text/plain": [
       "'07/25/22'"
      ]
     },
     "execution_count": 27,
     "metadata": {},
     "output_type": "execute_result"
    }
   ],
   "source": [
    "todaysDate\n",
    "\n",
    "#genanki.Package(deck).write_to_file(f'~/Documents/anki decks/{deck.name}.apkg')"
   ]
  },
  {
   "cell_type": "markdown",
   "metadata": {},
   "source": []
  },
  {
   "cell_type": "code",
   "execution_count": 39,
   "metadata": {},
   "outputs": [
    {
     "data": {
      "text/plain": [
       "'Cat 1: Tech and Work'"
      ]
     },
     "execution_count": 39,
     "metadata": {},
     "output_type": "execute_result"
    }
   ],
   "source": [
    "deck1.name"
   ]
  },
  {
   "cell_type": "code",
   "execution_count": 54,
   "metadata": {},
   "outputs": [
    {
     "data": {
      "text/plain": [
       "3    50\n",
       "1    46\n",
       "6    39\n",
       "4    31\n",
       "7    28\n",
       "5    18\n",
       "2     9\n",
       "0     7\n",
       "Name: cluster, dtype: int64"
      ]
     },
     "execution_count": 54,
     "metadata": {},
     "output_type": "execute_result"
    }
   ],
   "source": [
    "main_vocab_df['cluster'].value_counts()"
   ]
  },
  {
   "cell_type": "code",
   "execution_count": 22,
   "metadata": {},
   "outputs": [
    {
     "name": "stdout",
     "output_type": "stream",
     "text": [
      "0\n",
      "1\n",
      "2\n",
      "3\n",
      "4\n",
      "5\n",
      "6\n",
      "7\n"
     ]
    }
   ],
   "source": [
    "for i in range(0,8):\n",
    "    temp_cluster_df = main_vocab_df[main_vocab_df['cluster'] == i].copy()\n",
    "    deckID = random.randrange(1 << 30, 1 << 31)\n",
    "    \n",
    "    cluster_deck = genanki.Deck(\n",
    "        deck_id=deckID,\n",
    "        f'Chinese Cluster: {i}',\n",
    "        description=f'Cluster for {todaysDate}'\n",
    "    )\n",
    "    \n",
    "    for i, term in main_vocab_df[main_vocab_df['cluster'] == i].iterrows():\n",
    "        chinese = term.Characters\n",
    "        pinyin  = term.Pinyin\n",
    "        meaning = term.Meaning\n",
    "        \n",
    "        flashcard = genanki.Note(\n",
    "            model=ChineseDeckV1\n",
    "            fields=[chinese,pinyin,meaning]\n",
    "        )\n",
    "        \n",
    "    \n",
    "    \n",
    "    \n",
    "    "
   ]
  },
  {
   "cell_type": "code",
   "execution_count": 55,
   "metadata": {},
   "outputs": [
    {
     "name": "stdout",
     "output_type": "stream",
     "text": [
      "睡眠\n",
      "继续\n",
      "观察\n",
      "结束\n",
      "降温\n",
      "遵守\n",
      "违反\n",
      "邀请\n",
      "漫画\n",
      "天赋\n",
      "处方\n",
      "海拔\n",
      "执行\n",
      "直播\n",
      "逃跑\n",
      "另外\n",
      "群体免疫\n",
      "慢热\n",
      "才能\n",
      "失眠\n",
      "戒烟\n",
      "无序\n",
      "夏令时\n",
      "兼职\n",
      "歧视\n",
      "假设\n",
      "青少年\n",
      "通常\n",
      "集中\n",
      "沟通\n",
      "过去\n",
      "缘分\n",
      "局外人\n",
      "整天\n",
      "移民\n",
      "行为\n",
      "应用于\n",
      "真相\n",
      "执照\n",
      "任意\n",
      "着急\n",
      "刚需\n",
      "耐心\n",
      "讨好\n",
      "放心\n",
      "保守\n"
     ]
    }
   ],
   "source": [
    "for i, term in main_vocab_df[main_vocab_df['cluster'] == 1].iterrows():\n",
    "    print(term.Characters)"
   ]
  },
  {
   "cell_type": "code",
   "execution_count": null,
   "metadata": {},
   "outputs": [],
   "source": []
  },
  {
   "cell_type": "code",
   "execution_count": null,
   "metadata": {},
   "outputs": [],
   "source": []
  }
 ],
 "metadata": {
  "kernelspec": {
   "display_name": "Python 3.10.7 64-bit",
   "language": "python",
   "name": "python3"
  },
  "language_info": {
   "codemirror_mode": {
    "name": "ipython",
    "version": 3
   },
   "file_extension": ".py",
   "mimetype": "text/x-python",
   "name": "python",
   "nbconvert_exporter": "python",
   "pygments_lexer": "ipython3",
   "version": "3.10.7"
  },
  "orig_nbformat": 4,
  "vscode": {
   "interpreter": {
    "hash": "e7370f93d1d0cde622a1f8e1c04877d8463912d04d973331ad4851f04de6915a"
   }
  }
 },
 "nbformat": 4,
 "nbformat_minor": 2
}
