{
 "cells": [
  {
   "cell_type": "code",
   "execution_count": 106,
   "metadata": {},
   "outputs": [
    {
     "ename": "ModuleNotFoundError",
     "evalue": "No module named 'openpyxl'",
     "output_type": "error",
     "traceback": [
      "\u001b[0;31m---------------------------------------------------------------------------\u001b[0m",
      "\u001b[0;31mModuleNotFoundError\u001b[0m                       Traceback (most recent call last)",
      "\u001b[1;32m/home/jentlejames/Projects/Data/Chinese Automation/Untitled-1.ipynb Cell 1\u001b[0m in \u001b[0;36m<cell line: 3>\u001b[0;34m()\u001b[0m\n\u001b[1;32m      <a href='vscode-notebook-cell:/home/jentlejames/Projects/Data/Chinese%20Automation/Untitled-1.ipynb#W0sZmlsZQ%3D%3D?line=0'>1</a>\u001b[0m \u001b[39mimport\u001b[39;00m \u001b[39mpandas\u001b[39;00m \u001b[39mas\u001b[39;00m \u001b[39mpd\u001b[39;00m\n\u001b[1;32m      <a href='vscode-notebook-cell:/home/jentlejames/Projects/Data/Chinese%20Automation/Untitled-1.ipynb#W0sZmlsZQ%3D%3D?line=1'>2</a>\u001b[0m \u001b[39mimport\u001b[39;00m \u001b[39mnumpy\u001b[39;00m \u001b[39mas\u001b[39;00m \u001b[39mnp\u001b[39;00m\n\u001b[0;32m----> <a href='vscode-notebook-cell:/home/jentlejames/Projects/Data/Chinese%20Automation/Untitled-1.ipynb#W0sZmlsZQ%3D%3D?line=2'>3</a>\u001b[0m \u001b[39mimport\u001b[39;00m \u001b[39mopenpyxl\u001b[39;00m\n",
      "\u001b[0;31mModuleNotFoundError\u001b[0m: No module named 'openpyxl'"
     ]
    }
   ],
   "source": [
    "import pandas as pd\n",
    "import numpy as np\n",
    "import openpy"
   ]
  },
  {
   "cell_type": "code",
   "execution_count": 88,
   "metadata": {},
   "outputs": [],
   "source": [
    "cnVocabDF = pd.read_csv('./data/tmpDF.csv')\n",
    "\n",
    "hskDF = pd.read_csv('./data/HSK Standard Course 1-6-Table 1.csv',index_col=None)"
   ]
  },
  {
   "cell_type": "code",
   "execution_count": 89,
   "metadata": {},
   "outputs": [],
   "source": [
    "cnVocabDF = cnVocabDF[['Vocab','Date','Pinyin','Meaning']]"
   ]
  },
  {
   "cell_type": "code",
   "execution_count": 90,
   "metadata": {},
   "outputs": [
    {
     "data": {
      "text/html": [
       "<div>\n",
       "<style scoped>\n",
       "    .dataframe tbody tr th:only-of-type {\n",
       "        vertical-align: middle;\n",
       "    }\n",
       "\n",
       "    .dataframe tbody tr th {\n",
       "        vertical-align: top;\n",
       "    }\n",
       "\n",
       "    .dataframe thead th {\n",
       "        text-align: right;\n",
       "    }\n",
       "</style>\n",
       "<table border=\"1\" class=\"dataframe\">\n",
       "  <thead>\n",
       "    <tr style=\"text-align: right;\">\n",
       "      <th></th>\n",
       "      <th>Vocab</th>\n",
       "      <th>Date</th>\n",
       "      <th>Pinyin</th>\n",
       "      <th>Meaning</th>\n",
       "    </tr>\n",
       "  </thead>\n",
       "  <tbody>\n",
       "    <tr>\n",
       "      <th>0</th>\n",
       "      <td>转一转</td>\n",
       "      <td>2022 10 29</td>\n",
       "      <td>zhuǎnyīzhuǎn</td>\n",
       "      <td>Take a turn</td>\n",
       "    </tr>\n",
       "    <tr>\n",
       "      <th>1</th>\n",
       "      <td>语言</td>\n",
       "      <td>2022 10 29</td>\n",
       "      <td>yǔyán</td>\n",
       "      <td>language</td>\n",
       "    </tr>\n",
       "    <tr>\n",
       "      <th>2</th>\n",
       "      <td>官方</td>\n",
       "      <td>2022 10 29</td>\n",
       "      <td>guānfāng</td>\n",
       "      <td>official</td>\n",
       "    </tr>\n",
       "    <tr>\n",
       "      <th>3</th>\n",
       "      <td>马来语</td>\n",
       "      <td>2022 10 29</td>\n",
       "      <td>mǎláiyǔ</td>\n",
       "      <td>Malay</td>\n",
       "    </tr>\n",
       "    <tr>\n",
       "      <th>4</th>\n",
       "      <td>泰米尔语</td>\n",
       "      <td>2022 10 29</td>\n",
       "      <td>tàimǐěryǔ</td>\n",
       "      <td>Tamil</td>\n",
       "    </tr>\n",
       "  </tbody>\n",
       "</table>\n",
       "</div>"
      ],
      "text/plain": [
       "  Vocab        Date        Pinyin      Meaning\n",
       "0   转一转  2022 10 29  zhuǎnyīzhuǎn  Take a turn\n",
       "1    语言  2022 10 29         yǔyán     language\n",
       "2    官方  2022 10 29      guānfāng     official\n",
       "3   马来语  2022 10 29       mǎláiyǔ        Malay\n",
       "4  泰米尔语  2022 10 29     tàimǐěryǔ        Tamil"
      ]
     },
     "execution_count": 90,
     "metadata": {},
     "output_type": "execute_result"
    }
   ],
   "source": [
    "cnVocabDF.head()"
   ]
  },
  {
   "cell_type": "code",
   "execution_count": 91,
   "metadata": {},
   "outputs": [
    {
     "data": {
      "text/plain": [
       "Index(['Id', 'Traditional', 'Simplified', 'English', 'HSK', 'HSK 5（二）词语搭配',\n",
       "       'Img', 'Txt', 'Pinyin', 'Explanation', 'Example', 'Example Explanation',\n",
       "       'Translation', 'Book', 'Lesson', 'Dialog', 'NW', 'PN', 'OofC',\n",
       "       'Alternative', 'Grammar Reference', 'Song Lyrics', 'Song YouTube',\n",
       "       'Song Pinyin', 'Song Translation', 'Example Pinyin', 'Length',\n",
       "       'Character Phrase', 'Instagram Image Created'],\n",
       "      dtype='object')"
      ]
     },
     "execution_count": 91,
     "metadata": {},
     "output_type": "execute_result"
    }
   ],
   "source": [
    "hskDF.columns"
   ]
  },
  {
   "cell_type": "code",
   "execution_count": 92,
   "metadata": {},
   "outputs": [
    {
     "data": {
      "text/html": [
       "<div>\n",
       "<style scoped>\n",
       "    .dataframe tbody tr th:only-of-type {\n",
       "        vertical-align: middle;\n",
       "    }\n",
       "\n",
       "    .dataframe tbody tr th {\n",
       "        vertical-align: top;\n",
       "    }\n",
       "\n",
       "    .dataframe thead th {\n",
       "        text-align: right;\n",
       "    }\n",
       "</style>\n",
       "<table border=\"1\" class=\"dataframe\">\n",
       "  <thead>\n",
       "    <tr style=\"text-align: right;\">\n",
       "      <th></th>\n",
       "      <th>Simplified</th>\n",
       "      <th>HSK</th>\n",
       "      <th>English</th>\n",
       "      <th>Explanation</th>\n",
       "      <th>Example</th>\n",
       "      <th>Example Explanation</th>\n",
       "      <th>Translation</th>\n",
       "    </tr>\n",
       "  </thead>\n",
       "  <tbody>\n",
       "    <tr>\n",
       "      <th>0</th>\n",
       "      <td>你</td>\n",
       "      <td>1</td>\n",
       "      <td>(singular) you</td>\n",
       "      <td>你，就是 you。</td>\n",
       "      <td>你今天有心思学习吗？</td>\n",
       "      <td>也就是问，今天你想要学习吗？</td>\n",
       "      <td>Are you in tune for study today?</td>\n",
       "    </tr>\n",
       "    <tr>\n",
       "      <th>1</th>\n",
       "      <td>好</td>\n",
       "      <td>1</td>\n",
       "      <td>good, fine</td>\n",
       "      <td>好，就是很好。</td>\n",
       "      <td>要发音好就必须自觉地学习语音。</td>\n",
       "      <td>也就是说，要想发音好，你必须认真学习语音。</td>\n",
       "      <td>To have a good pronunciation you have to study...</td>\n",
       "    </tr>\n",
       "    <tr>\n",
       "      <th>2</th>\n",
       "      <td>您</td>\n",
       "      <td>2</td>\n",
       "      <td>(polite) you</td>\n",
       "      <td>NaN</td>\n",
       "      <td>NaN</td>\n",
       "      <td>NaN</td>\n",
       "      <td>NaN</td>\n",
       "    </tr>\n",
       "    <tr>\n",
       "      <th>3</th>\n",
       "      <td>你们</td>\n",
       "      <td>1</td>\n",
       "      <td>(plural) you</td>\n",
       "      <td>你们，就是你。</td>\n",
       "      <td>请你们研究一下。</td>\n",
       "      <td>也就是说，我希望你能研究这些问题。</td>\n",
       "      <td>I hope you will study these questions.</td>\n",
       "    </tr>\n",
       "    <tr>\n",
       "      <th>4</th>\n",
       "      <td>对不起</td>\n",
       "      <td>1</td>\n",
       "      <td>to be sorry</td>\n",
       "      <td>对不起，就是抱歉、不好意思。</td>\n",
       "      <td>对不起，委屈你了。</td>\n",
       "      <td>也就是说，很抱歉给您带来这么多不便。</td>\n",
       "      <td>Sorry to have troubled you with all such incon...</td>\n",
       "    </tr>\n",
       "    <tr>\n",
       "      <th>...</th>\n",
       "      <td>...</td>\n",
       "      <td>...</td>\n",
       "      <td>...</td>\n",
       "      <td>...</td>\n",
       "      <td>...</td>\n",
       "      <td>...</td>\n",
       "      <td>...</td>\n",
       "    </tr>\n",
       "    <tr>\n",
       "      <th>5511</th>\n",
       "      <td>政权</td>\n",
       "      <td>6</td>\n",
       "      <td>regime, political power</td>\n",
       "      <td>政权，就是政权、政权。</td>\n",
       "      <td>掌握政权</td>\n",
       "      <td>也就是“执掌国家（事务）”。</td>\n",
       "      <td>take the helm of state (affairs)</td>\n",
       "    </tr>\n",
       "    <tr>\n",
       "      <th>5512</th>\n",
       "      <td>审判</td>\n",
       "      <td>6</td>\n",
       "      <td>a trial, to try sb</td>\n",
       "      <td>审判，就是审判某人。</td>\n",
       "      <td>审判某人</td>\n",
       "      <td>也就是“为某人主持正义”。</td>\n",
       "      <td>administer justice to a person</td>\n",
       "    </tr>\n",
       "    <tr>\n",
       "      <th>5513</th>\n",
       "      <td>国防</td>\n",
       "      <td>6</td>\n",
       "      <td>national defense</td>\n",
       "      <td>国防，就是 national defense。</td>\n",
       "      <td>国防经费</td>\n",
       "      <td>也就是“国防支出”。</td>\n",
       "      <td>outlays for national defense</td>\n",
       "    </tr>\n",
       "    <tr>\n",
       "      <th>5514</th>\n",
       "      <td>舰艇</td>\n",
       "      <td>6</td>\n",
       "      <td>warship, naval vessel</td>\n",
       "      <td>舰艇，就是军舰、军舰。</td>\n",
       "      <td>舰艇声纳</td>\n",
       "      <td>也就是“舰载声纳”。</td>\n",
       "      <td>shipboard sonar</td>\n",
       "    </tr>\n",
       "    <tr>\n",
       "      <th>5515</th>\n",
       "      <td>荤</td>\n",
       "      <td>6</td>\n",
       "      <td>non-vegetarian food (meat, fish, spicy food etc)</td>\n",
       "      <td>荤，就是非素食。</td>\n",
       "      <td>荤小菜</td>\n",
       "      <td>也就是“肉和蔬菜”。</td>\n",
       "      <td>meat and vegetables</td>\n",
       "    </tr>\n",
       "  </tbody>\n",
       "</table>\n",
       "<p>5516 rows × 7 columns</p>\n",
       "</div>"
      ],
      "text/plain": [
       "     Simplified HSK                                           English  \\\n",
       "0             你   1                                    (singular) you   \n",
       "1             好   1                                        good, fine   \n",
       "2             您   2                                      (polite) you   \n",
       "3            你们   1                                      (plural) you   \n",
       "4           对不起   1                                       to be sorry   \n",
       "...         ...  ..                                               ...   \n",
       "5511         政权   6                           regime, political power   \n",
       "5512         审判   6                                a trial, to try sb   \n",
       "5513         国防   6                                  national defense   \n",
       "5514         舰艇   6                             warship, naval vessel   \n",
       "5515          荤   6  non-vegetarian food (meat, fish, spicy food etc)   \n",
       "\n",
       "                  Explanation          Example    Example Explanation  \\\n",
       "0                   你，就是 you。       你今天有心思学习吗？         也就是问，今天你想要学习吗？   \n",
       "1                     好，就是很好。  要发音好就必须自觉地学习语音。  也就是说，要想发音好，你必须认真学习语音。   \n",
       "2                         NaN              NaN                    NaN   \n",
       "3                     你们，就是你。         请你们研究一下。      也就是说，我希望你能研究这些问题。   \n",
       "4              对不起，就是抱歉、不好意思。        对不起，委屈你了。     也就是说，很抱歉给您带来这么多不便。   \n",
       "...                       ...              ...                    ...   \n",
       "5511              政权，就是政权、政权。             掌握政权         也就是“执掌国家（事务）”。   \n",
       "5512               审判，就是审判某人。             审判某人          也就是“为某人主持正义”。   \n",
       "5513  国防，就是 national defense。             国防经费             也就是“国防支出”。   \n",
       "5514              舰艇，就是军舰、军舰。             舰艇声纳             也就是“舰载声纳”。   \n",
       "5515                 荤，就是非素食。              荤小菜             也就是“肉和蔬菜”。   \n",
       "\n",
       "                                            Translation  \n",
       "0                      Are you in tune for study today?  \n",
       "1     To have a good pronunciation you have to study...  \n",
       "2                                                   NaN  \n",
       "3                I hope you will study these questions.  \n",
       "4     Sorry to have troubled you with all such incon...  \n",
       "...                                                 ...  \n",
       "5511                   take the helm of state (affairs)  \n",
       "5512                     administer justice to a person  \n",
       "5513                       outlays for national defense  \n",
       "5514                                    shipboard sonar  \n",
       "5515                                meat and vegetables  \n",
       "\n",
       "[5516 rows x 7 columns]"
      ]
     },
     "execution_count": 92,
     "metadata": {},
     "output_type": "execute_result"
    }
   ],
   "source": [
    "hskDF[['Simplified','HSK','English','Explanation','Example','Example Explanation','Translation']]"
   ]
  },
  {
   "cell_type": "code",
   "execution_count": 93,
   "metadata": {},
   "outputs": [],
   "source": [
    "hskLevelDict = pd.Series(hskDF.HSK.values,index=hskDF.Simplified).to_dict()"
   ]
  },
  {
   "cell_type": "code",
   "execution_count": 94,
   "metadata": {},
   "outputs": [],
   "source": [
    "cnVocabDF['HSK'] = cnVocabDF['Vocab'].map(hskLevelDict)"
   ]
  },
  {
   "cell_type": "code",
   "execution_count": 95,
   "metadata": {},
   "outputs": [
    {
     "name": "stdout",
     "output_type": "stream",
     "text": [
      "<class 'pandas.core.frame.DataFrame'>\n",
      "RangeIndex: 561 entries, 0 to 560\n",
      "Data columns (total 5 columns):\n",
      " #   Column   Non-Null Count  Dtype \n",
      "---  ------   --------------  ----- \n",
      " 0   Vocab    561 non-null    object\n",
      " 1   Date     561 non-null    object\n",
      " 2   Pinyin   561 non-null    object\n",
      " 3   Meaning  561 non-null    object\n",
      " 4   HSK      177 non-null    object\n",
      "dtypes: object(5)\n",
      "memory usage: 22.0+ KB\n"
     ]
    }
   ],
   "source": [
    "cnVocabDF.info()"
   ]
  },
  {
   "cell_type": "code",
   "execution_count": 96,
   "metadata": {},
   "outputs": [
    {
     "data": {
      "text/plain": [
       "5          74\n",
       "6          57\n",
       "4          30\n",
       "3          12\n",
       "outside     3\n",
       "1           1\n",
       "Name: HSK, dtype: int64"
      ]
     },
     "execution_count": 96,
     "metadata": {},
     "output_type": "execute_result"
    }
   ],
   "source": [
    "cnVocabDF.HSK.value_counts()"
   ]
  },
  {
   "cell_type": "code",
   "execution_count": 97,
   "metadata": {},
   "outputs": [],
   "source": [
    "inHSK = cnVocabDF.dropna(axis='index',how='any').reset_index(drop=True)"
   ]
  },
  {
   "cell_type": "code",
   "execution_count": 98,
   "metadata": {},
   "outputs": [],
   "source": [
    "inHSK.columns = ['Simplified','Date','Pinyin','Meaning','HSK']"
   ]
  },
  {
   "cell_type": "code",
   "execution_count": null,
   "metadata": {},
   "outputs": [],
   "source": []
  },
  {
   "cell_type": "code",
   "execution_count": 100,
   "metadata": {},
   "outputs": [],
   "source": [
    "inHSK = inHSK.merge(hskDF,on='Simplified')"
   ]
  },
  {
   "cell_type": "code",
   "execution_count": 101,
   "metadata": {},
   "outputs": [
    {
     "data": {
      "text/plain": [
       "Index(['Simplified', 'Date', 'Pinyin_x', 'Meaning', 'HSK_x', 'Id',\n",
       "       'Traditional', 'English', 'HSK_y', 'HSK 5（二）词语搭配', 'Img', 'Txt',\n",
       "       'Pinyin_y', 'Explanation', 'Example', 'Example Explanation',\n",
       "       'Translation', 'Book', 'Lesson', 'Dialog', 'NW', 'PN', 'OofC',\n",
       "       'Alternative', 'Grammar Reference', 'Song Lyrics', 'Song YouTube',\n",
       "       'Song Pinyin', 'Song Translation', 'Example Pinyin', 'Length',\n",
       "       'Character Phrase', 'Instagram Image Created'],\n",
       "      dtype='object')"
      ]
     },
     "execution_count": 101,
     "metadata": {},
     "output_type": "execute_result"
    }
   ],
   "source": [
    "inHSK.columns"
   ]
  },
  {
   "cell_type": "code",
   "execution_count": 102,
   "metadata": {},
   "outputs": [],
   "source": [
    "inHSK = inHSK[['Simplified','Date','Pinyin_x','Meaning','HSK_x','Traditional','English','Example Pinyin','Character Phrase','Example Explanation',]]"
   ]
  },
  {
   "cell_type": "code",
   "execution_count": null,
   "metadata": {},
   "outputs": [],
   "source": []
  },
  {
   "cell_type": "code",
   "execution_count": null,
   "metadata": {},
   "outputs": [],
   "source": []
  }
 ],
 "metadata": {
  "kernelspec": {
   "display_name": "Python 3.10.6 ('ChineseAutomation')",
   "language": "python",
   "name": "python3"
  },
  "language_info": {
   "codemirror_mode": {
    "name": "ipython",
    "version": 3
   },
   "file_extension": ".py",
   "mimetype": "text/x-python",
   "name": "python",
   "nbconvert_exporter": "python",
   "pygments_lexer": "ipython3",
   "version": "3.10.6"
  },
  "orig_nbformat": 4,
  "vscode": {
   "interpreter": {
    "hash": "7980743aae653ac9739fb934e04ede1c780f22bb2ac4dedf609626bec8781b4e"
   }
  }
 },
 "nbformat": 4,
 "nbformat_minor": 2
}
