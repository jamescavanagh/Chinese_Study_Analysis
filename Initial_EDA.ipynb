{
 "cells": [
  {
   "cell_type": "code",
   "execution_count": 14,
   "metadata": {},
   "outputs": [],
   "source": [
    "# Exploratory Data  Analysis\n",
    "!pip -q install translators bs4"
   ]
  },
  {
   "cell_type": "markdown",
   "metadata": {},
   "source": []
  },
  {
   "cell_type": "markdown",
   "metadata": {},
   "source": []
  },
  {
   "cell_type": "code",
   "execution_count": 2,
   "metadata": {},
   "outputs": [
    {
     "name": "stderr",
     "output_type": "stream",
     "text": [
      "Using state  server backend.\n"
     ]
    }
   ],
   "source": [
    "import pandas as pd\n",
    "import numpy as np\n",
    "import pinyin\n",
    "\n",
    "import pinyin\n",
    "import translators\n",
    "import requests\n",
    "import bs4 as Beautifulsoup"
   ]
  },
  {
   "cell_type": "code",
   "execution_count": 3,
   "metadata": {},
   "outputs": [],
   "source": [
    "cnVocabDF = pd.read_csv('./data/initialExtractVocabAndDateAdded.csv')"
   ]
  },
  {
   "cell_type": "code",
   "execution_count": 4,
   "metadata": {},
   "outputs": [
    {
     "data": {
      "text/html": [
       "<div>\n",
       "<style scoped>\n",
       "    .dataframe tbody tr th:only-of-type {\n",
       "        vertical-align: middle;\n",
       "    }\n",
       "\n",
       "    .dataframe tbody tr th {\n",
       "        vertical-align: top;\n",
       "    }\n",
       "\n",
       "    .dataframe thead th {\n",
       "        text-align: right;\n",
       "    }\n",
       "</style>\n",
       "<table border=\"1\" class=\"dataframe\">\n",
       "  <thead>\n",
       "    <tr style=\"text-align: right;\">\n",
       "      <th></th>\n",
       "      <th>Unnamed: 0</th>\n",
       "      <th>Vocab</th>\n",
       "      <th>Date</th>\n",
       "    </tr>\n",
       "  </thead>\n",
       "  <tbody>\n",
       "    <tr>\n",
       "      <th>0</th>\n",
       "      <td>0</td>\n",
       "      <td>转一转</td>\n",
       "      <td>2022 10 29</td>\n",
       "    </tr>\n",
       "    <tr>\n",
       "      <th>1</th>\n",
       "      <td>1</td>\n",
       "      <td>语言</td>\n",
       "      <td>2022 10 29</td>\n",
       "    </tr>\n",
       "    <tr>\n",
       "      <th>2</th>\n",
       "      <td>2</td>\n",
       "      <td>官方</td>\n",
       "      <td>2022 10 29</td>\n",
       "    </tr>\n",
       "    <tr>\n",
       "      <th>3</th>\n",
       "      <td>3</td>\n",
       "      <td>马来语</td>\n",
       "      <td>2022 10 29</td>\n",
       "    </tr>\n",
       "    <tr>\n",
       "      <th>4</th>\n",
       "      <td>4</td>\n",
       "      <td>泰米尔语</td>\n",
       "      <td>2022 10 29</td>\n",
       "    </tr>\n",
       "    <tr>\n",
       "      <th>...</th>\n",
       "      <td>...</td>\n",
       "      <td>...</td>\n",
       "      <td>...</td>\n",
       "    </tr>\n",
       "    <tr>\n",
       "      <th>556</th>\n",
       "      <td>556</td>\n",
       "      <td>健美</td>\n",
       "      <td>2022 6 1</td>\n",
       "    </tr>\n",
       "    <tr>\n",
       "      <th>557</th>\n",
       "      <td>557</td>\n",
       "      <td>部位</td>\n",
       "      <td>2022 6 1</td>\n",
       "    </tr>\n",
       "    <tr>\n",
       "      <th>558</th>\n",
       "      <td>558</td>\n",
       "      <td>普拉提</td>\n",
       "      <td>2022 6 1</td>\n",
       "    </tr>\n",
       "    <tr>\n",
       "      <th>559</th>\n",
       "      <td>559</td>\n",
       "      <td>瑜伽球</td>\n",
       "      <td>2022 6 1</td>\n",
       "    </tr>\n",
       "    <tr>\n",
       "      <th>560</th>\n",
       "      <td>560</td>\n",
       "      <td>保持个小时的睡眠</td>\n",
       "      <td>2022 6 1</td>\n",
       "    </tr>\n",
       "  </tbody>\n",
       "</table>\n",
       "<p>561 rows × 3 columns</p>\n",
       "</div>"
      ],
      "text/plain": [
       "     Unnamed: 0     Vocab        Date\n",
       "0             0       转一转  2022 10 29\n",
       "1             1        语言  2022 10 29\n",
       "2             2        官方  2022 10 29\n",
       "3             3       马来语  2022 10 29\n",
       "4             4      泰米尔语  2022 10 29\n",
       "..          ...       ...         ...\n",
       "556         556        健美    2022 6 1\n",
       "557         557        部位    2022 6 1\n",
       "558         558       普拉提    2022 6 1\n",
       "559         559       瑜伽球    2022 6 1\n",
       "560         560  保持个小时的睡眠    2022 6 1\n",
       "\n",
       "[561 rows x 3 columns]"
      ]
     },
     "execution_count": 4,
     "metadata": {},
     "output_type": "execute_result"
    }
   ],
   "source": [
    "cnVocabDF"
   ]
  },
  {
   "cell_type": "code",
   "execution_count": 9,
   "metadata": {},
   "outputs": [
    {
     "name": "stderr",
     "output_type": "stream",
     "text": [
      "/tmp/ipykernel_23751/1804875632.py:7: FutureWarning: iteritems is deprecated and will be removed in a future version. Use .items instead.\n",
      "  for i, term in enumerate(cnVocabDF['Vocab'].iteritems()):\n"
     ]
    },
    {
     "name": "stdout",
     "output_type": "stream",
     "text": [
      "0\n",
      "25\n",
      "50\n",
      "75\n",
      "100\n",
      "125\n",
      "150\n",
      "175\n",
      "200\n",
      "225\n",
      "250\n",
      "275\n",
      "300\n",
      "325\n",
      "350\n",
      "375\n",
      "400\n",
      "425\n",
      "450\n",
      "475\n",
      "500\n",
      "525\n",
      "550\n"
     ]
    }
   ],
   "source": [
    "cnVocabDF['Pinyin'] = cnVocabDF['Vocab'].apply(lambda letters: pinyin.get(letters))\n",
    "\n",
    "# Calls Google Translate API to translate new vocab\n",
    "definitions = []\n",
    "\n",
    "# Async Code, uses for loop\n",
    "for i, term in enumerate(cnVocabDF['Vocab'].iteritems()):\n",
    "    # Slow calls \n",
    "\n",
    "    if i % 25 == 0:\n",
    "        print(i)\n",
    "\n",
    "    definition = translators.google(term[1],from_language='zh-CN',to_language='en')\n",
    "    definitions.append(definition)\n",
    "\n",
    "cnVocabDF['Meaning'] = definitions"
   ]
  },
  {
   "cell_type": "code",
   "execution_count": 10,
   "metadata": {},
   "outputs": [],
   "source": [
    "cnVocabDF.to_csv('./data/tmpDF.csv')"
   ]
  },
  {
   "cell_type": "code",
   "execution_count": 1,
   "metadata": {},
   "outputs": [
    {
     "ename": "NameError",
     "evalue": "name 'cnVocabDF' is not defined",
     "output_type": "error",
     "traceback": [
      "\u001b[0;31m---------------------------------------------------------------------------\u001b[0m",
      "\u001b[0;31mNameError\u001b[0m                                 Traceback (most recent call last)",
      "\u001b[1;32m/home/jentlejames/Projects/Data/Chinese Automation/Initial_EDA.ipynb Cell 9\u001b[0m in \u001b[0;36m<cell line: 1>\u001b[0;34m()\u001b[0m\n\u001b[0;32m----> <a href='vscode-notebook-cell:/home/jentlejames/Projects/Data/Chinese%20Automation/Initial_EDA.ipynb#X11sZmlsZQ%3D%3D?line=0'>1</a>\u001b[0m cnVocabDF\n",
      "\u001b[0;31mNameError\u001b[0m: name 'cnVocabDF' is not defined"
     ]
    }
   ],
   "source": []
  },
  {
   "cell_type": "code",
   "execution_count": null,
   "metadata": {},
   "outputs": [],
   "source": [
    "# Web Scraping\n",
    "\n",
    "# Placeholder variables\n",
    "\n",
    "vocabWord  \n"
   ]
  }
 ],
 "metadata": {
  "kernelspec": {
   "display_name": "Python 3.10.6 ('ChineseAutomation')",
   "language": "python",
   "name": "python3"
  },
  "language_info": {
   "codemirror_mode": {
    "name": "ipython",
    "version": 3
   },
   "file_extension": ".py",
   "mimetype": "text/x-python",
   "name": "python",
   "nbconvert_exporter": "python",
   "pygments_lexer": "ipython3",
   "version": "3.10.6"
  },
  "orig_nbformat": 4,
  "vscode": {
   "interpreter": {
    "hash": "7980743aae653ac9739fb934e04ede1c780f22bb2ac4dedf609626bec8781b4e"
   }
  }
 },
 "nbformat": 4,
 "nbformat_minor": 2
}
